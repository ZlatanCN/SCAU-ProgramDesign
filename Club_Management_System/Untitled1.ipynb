{
 "cells": [
  {
   "cell_type": "code",
   "execution_count": 29,
   "id": "b8f63da3-a3fa-4569-a60a-465db1d958d3",
   "metadata": {},
   "outputs": [
    {
     "data": {
      "text/html": [
       "<div>\n",
       "<style scoped>\n",
       "    .dataframe tbody tr th:only-of-type {\n",
       "        vertical-align: middle;\n",
       "    }\n",
       "\n",
       "    .dataframe tbody tr th {\n",
       "        vertical-align: top;\n",
       "    }\n",
       "\n",
       "    .dataframe thead th {\n",
       "        text-align: right;\n",
       "    }\n",
       "</style>\n",
       "<table border=\"1\" class=\"dataframe\">\n",
       "  <thead>\n",
       "    <tr style=\"text-align: right;\">\n",
       "      <th></th>\n",
       "      <th>ClubName</th>\n",
       "      <th>Type</th>\n",
       "      <th>Principal</th>\n",
       "      <th>College</th>\n",
       "      <th>Advisor</th>\n",
       "    </tr>\n",
       "    <tr>\n",
       "      <th>序号</th>\n",
       "      <th></th>\n",
       "      <th></th>\n",
       "      <th></th>\n",
       "      <th></th>\n",
       "      <th></th>\n",
       "    </tr>\n",
       "  </thead>\n",
       "  <tbody>\n",
       "    <tr>\n",
       "      <th>1</th>\n",
       "      <td>青廉社</td>\n",
       "      <td>思想政治类</td>\n",
       "      <td>庄燕丽</td>\n",
       "      <td>动物科学学院</td>\n",
       "      <td>李治权</td>\n",
       "    </tr>\n",
       "    <tr>\n",
       "      <th>2</th>\n",
       "      <td>新禾融媒体工作室</td>\n",
       "      <td>其他类</td>\n",
       "      <td>石宇坤</td>\n",
       "      <td>公共管理学院</td>\n",
       "      <td>费思迎</td>\n",
       "    </tr>\n",
       "    <tr>\n",
       "      <th>3</th>\n",
       "      <td>校史文化宣讲团</td>\n",
       "      <td>文化体育类</td>\n",
       "      <td>许嘉熙</td>\n",
       "      <td>人文与法学学院</td>\n",
       "      <td>陈源</td>\n",
       "    </tr>\n",
       "    <tr>\n",
       "      <th>4</th>\n",
       "      <td>国旗护卫队</td>\n",
       "      <td>自律互助类</td>\n",
       "      <td>杨哲</td>\n",
       "      <td>食品学院</td>\n",
       "      <td>张东彦</td>\n",
       "    </tr>\n",
       "    <tr>\n",
       "      <th>5</th>\n",
       "      <td>学工融媒体中心</td>\n",
       "      <td>其他类</td>\n",
       "      <td>曹婧</td>\n",
       "      <td>经济管理学院</td>\n",
       "      <td>周志荣</td>\n",
       "    </tr>\n",
       "    <tr>\n",
       "      <th>...</th>\n",
       "      <td>...</td>\n",
       "      <td>...</td>\n",
       "      <td>...</td>\n",
       "      <td>...</td>\n",
       "      <td>...</td>\n",
       "    </tr>\n",
       "    <tr>\n",
       "      <th>98</th>\n",
       "      <td>人工智能协会</td>\n",
       "      <td>学术科技类</td>\n",
       "      <td>麦彦恒</td>\n",
       "      <td>电子工程学院（人工智\\n能学院）</td>\n",
       "      <td>邓小玲</td>\n",
       "    </tr>\n",
       "    <tr>\n",
       "      <th>99</th>\n",
       "      <td>法律实践教学中心</td>\n",
       "      <td>其他类</td>\n",
       "      <td>黄斯斯</td>\n",
       "      <td>人文与法学学院</td>\n",
       "      <td>钟继军</td>\n",
       "    </tr>\n",
       "    <tr>\n",
       "      <th>100</th>\n",
       "      <td>中文实践教学中心</td>\n",
       "      <td>其他类</td>\n",
       "      <td>杨丹</td>\n",
       "      <td>人文与法学学院</td>\n",
       "      <td>傅修海</td>\n",
       "    </tr>\n",
       "    <tr>\n",
       "      <th>101</th>\n",
       "      <td>匹克球协会</td>\n",
       "      <td>文化体育类</td>\n",
       "      <td>周鹏</td>\n",
       "      <td>工程学院</td>\n",
       "      <td>张晓萍</td>\n",
       "    </tr>\n",
       "    <tr>\n",
       "      <th>102</th>\n",
       "      <td>太极拳协会</td>\n",
       "      <td>文化体育类</td>\n",
       "      <td>吴绮湘</td>\n",
       "      <td>资源环境学院</td>\n",
       "      <td>董逢威</td>\n",
       "    </tr>\n",
       "  </tbody>\n",
       "</table>\n",
       "<p>102 rows × 5 columns</p>\n",
       "</div>"
      ],
      "text/plain": [
       "     ClubName   Type Principal           College Advisor\n",
       "序号                                                      \n",
       "1         青廉社  思想政治类       庄燕丽            动物科学学院     李治权\n",
       "2    新禾融媒体工作室    其他类       石宇坤            公共管理学院     费思迎\n",
       "3     校史文化宣讲团  文化体育类       许嘉熙           人文与法学学院      陈源\n",
       "4       国旗护卫队  自律互助类        杨哲              食品学院     张东彦\n",
       "5     学工融媒体中心    其他类        曹婧            经济管理学院     周志荣\n",
       "..        ...    ...       ...               ...     ...\n",
       "98     人工智能协会  学术科技类       麦彦恒  电子工程学院（人工智\\n能学院）     邓小玲\n",
       "99   法律实践教学中心    其他类       黄斯斯           人文与法学学院     钟继军\n",
       "100  中文实践教学中心    其他类        杨丹           人文与法学学院     傅修海\n",
       "101     匹克球协会  文化体育类        周鹏              工程学院     张晓萍\n",
       "102     太极拳协会  文化体育类       吴绮湘            资源环境学院     董逢威\n",
       "\n",
       "[102 rows x 5 columns]"
      ]
     },
     "execution_count": 29,
     "metadata": {},
     "output_type": "execute_result"
    }
   ],
   "source": [
    "import pandas as pd\n",
    "import sqlite3\n",
    "import regex as re\n",
    "import plotly.express as px\n",
    "\n",
    "df = pd.read_excel('club_data_set.xlsx')\n",
    "df.set_index('序号', inplace=True)\n",
    "df = df.iloc[:, :5]\n",
    "df.rename(columns={'学生社团名称':'ClubName', '类     型':'Type', '负责同学':'Principal', '学     院':'College', '业务指导老师':'Advisor'}, inplace=True)\n",
    "df['ClubName'] = df['ClubName'].str.replace('华南农业大学', '')\n",
    "df"
   ]
  },
  {
   "cell_type": "code",
   "execution_count": 30,
   "id": "b8ac0e63-95b8-4da2-b50a-6677cd047d55",
   "metadata": {},
   "outputs": [
    {
     "data": {
      "text/html": [
       "<div>\n",
       "<style scoped>\n",
       "    .dataframe tbody tr th:only-of-type {\n",
       "        vertical-align: middle;\n",
       "    }\n",
       "\n",
       "    .dataframe tbody tr th {\n",
       "        vertical-align: top;\n",
       "    }\n",
       "\n",
       "    .dataframe thead th {\n",
       "        text-align: right;\n",
       "    }\n",
       "</style>\n",
       "<table border=\"1\" class=\"dataframe\">\n",
       "  <thead>\n",
       "    <tr style=\"text-align: right;\">\n",
       "      <th></th>\n",
       "      <th>Count</th>\n",
       "    </tr>\n",
       "    <tr>\n",
       "      <th>Type</th>\n",
       "      <th></th>\n",
       "    </tr>\n",
       "  </thead>\n",
       "  <tbody>\n",
       "    <tr>\n",
       "      <th>其他类</th>\n",
       "      <td>19</td>\n",
       "    </tr>\n",
       "    <tr>\n",
       "      <th>创新创业类</th>\n",
       "      <td>2</td>\n",
       "    </tr>\n",
       "    <tr>\n",
       "      <th>学术科技类</th>\n",
       "      <td>11</td>\n",
       "    </tr>\n",
       "    <tr>\n",
       "      <th>志愿公益类</th>\n",
       "      <td>2</td>\n",
       "    </tr>\n",
       "    <tr>\n",
       "      <th>思想政治类</th>\n",
       "      <td>3</td>\n",
       "    </tr>\n",
       "    <tr>\n",
       "      <th>文化体育类</th>\n",
       "      <td>55</td>\n",
       "    </tr>\n",
       "    <tr>\n",
       "      <th>自律互助类</th>\n",
       "      <td>10</td>\n",
       "    </tr>\n",
       "  </tbody>\n",
       "</table>\n",
       "</div>"
      ],
      "text/plain": [
       "       Count\n",
       "Type        \n",
       "其他类       19\n",
       "创新创业类      2\n",
       "学术科技类     11\n",
       "志愿公益类      2\n",
       "思想政治类      3\n",
       "文化体育类     55\n",
       "自律互助类     10"
      ]
     },
     "execution_count": 30,
     "metadata": {},
     "output_type": "execute_result"
    }
   ],
   "source": [
    "club_type_count = df.groupby('Type')[['Type']].count()\n",
    "club_type_count.rename(columns={'Type':'Count'}, inplace=True)\n",
    "club_type_count"
   ]
  },
  {
   "cell_type": "code",
   "execution_count": 31,
   "id": "16d16a20-f407-40ed-b0eb-5520589bad76",
   "metadata": {},
   "outputs": [
    {
     "data": {
      "application/vnd.plotly.v1+json": {
       "config": {
        "plotlyServerURL": "https://plot.ly"
       },
       "data": [
        {
         "domain": {
          "x": [
           0,
           1
          ],
          "y": [
           0,
           1
          ]
         },
         "hovertemplate": "Type=%{label}<br>Count=%{value}<extra></extra>",
         "labels": [
          "其他类",
          "创新创业类",
          "学术科技类",
          "志愿公益类",
          "思想政治类",
          "文化体育类",
          "自律互助类"
         ],
         "legendgroup": "",
         "name": "",
         "showlegend": true,
         "textinfo": "percent+label",
         "textposition": "inside",
         "type": "pie",
         "values": [
          19,
          2,
          11,
          2,
          3,
          55,
          10
         ]
        }
       ],
       "layout": {
        "autosize": true,
        "legend": {
         "tracegroupgap": 0
        },
        "template": {
         "data": {
          "bar": [
           {
            "error_x": {
             "color": "#2a3f5f"
            },
            "error_y": {
             "color": "#2a3f5f"
            },
            "marker": {
             "line": {
              "color": "#E5ECF6",
              "width": 0.5
             },
             "pattern": {
              "fillmode": "overlay",
              "size": 10,
              "solidity": 0.2
             }
            },
            "type": "bar"
           }
          ],
          "barpolar": [
           {
            "marker": {
             "line": {
              "color": "#E5ECF6",
              "width": 0.5
             },
             "pattern": {
              "fillmode": "overlay",
              "size": 10,
              "solidity": 0.2
             }
            },
            "type": "barpolar"
           }
          ],
          "carpet": [
           {
            "aaxis": {
             "endlinecolor": "#2a3f5f",
             "gridcolor": "white",
             "linecolor": "white",
             "minorgridcolor": "white",
             "startlinecolor": "#2a3f5f"
            },
            "baxis": {
             "endlinecolor": "#2a3f5f",
             "gridcolor": "white",
             "linecolor": "white",
             "minorgridcolor": "white",
             "startlinecolor": "#2a3f5f"
            },
            "type": "carpet"
           }
          ],
          "choropleth": [
           {
            "colorbar": {
             "outlinewidth": 0,
             "ticks": ""
            },
            "type": "choropleth"
           }
          ],
          "contour": [
           {
            "colorbar": {
             "outlinewidth": 0,
             "ticks": ""
            },
            "colorscale": [
             [
              0,
              "#0d0887"
             ],
             [
              0.1111111111111111,
              "#46039f"
             ],
             [
              0.2222222222222222,
              "#7201a8"
             ],
             [
              0.3333333333333333,
              "#9c179e"
             ],
             [
              0.4444444444444444,
              "#bd3786"
             ],
             [
              0.5555555555555556,
              "#d8576b"
             ],
             [
              0.6666666666666666,
              "#ed7953"
             ],
             [
              0.7777777777777778,
              "#fb9f3a"
             ],
             [
              0.8888888888888888,
              "#fdca26"
             ],
             [
              1,
              "#f0f921"
             ]
            ],
            "type": "contour"
           }
          ],
          "contourcarpet": [
           {
            "colorbar": {
             "outlinewidth": 0,
             "ticks": ""
            },
            "type": "contourcarpet"
           }
          ],
          "heatmap": [
           {
            "colorbar": {
             "outlinewidth": 0,
             "ticks": ""
            },
            "colorscale": [
             [
              0,
              "#0d0887"
             ],
             [
              0.1111111111111111,
              "#46039f"
             ],
             [
              0.2222222222222222,
              "#7201a8"
             ],
             [
              0.3333333333333333,
              "#9c179e"
             ],
             [
              0.4444444444444444,
              "#bd3786"
             ],
             [
              0.5555555555555556,
              "#d8576b"
             ],
             [
              0.6666666666666666,
              "#ed7953"
             ],
             [
              0.7777777777777778,
              "#fb9f3a"
             ],
             [
              0.8888888888888888,
              "#fdca26"
             ],
             [
              1,
              "#f0f921"
             ]
            ],
            "type": "heatmap"
           }
          ],
          "heatmapgl": [
           {
            "colorbar": {
             "outlinewidth": 0,
             "ticks": ""
            },
            "colorscale": [
             [
              0,
              "#0d0887"
             ],
             [
              0.1111111111111111,
              "#46039f"
             ],
             [
              0.2222222222222222,
              "#7201a8"
             ],
             [
              0.3333333333333333,
              "#9c179e"
             ],
             [
              0.4444444444444444,
              "#bd3786"
             ],
             [
              0.5555555555555556,
              "#d8576b"
             ],
             [
              0.6666666666666666,
              "#ed7953"
             ],
             [
              0.7777777777777778,
              "#fb9f3a"
             ],
             [
              0.8888888888888888,
              "#fdca26"
             ],
             [
              1,
              "#f0f921"
             ]
            ],
            "type": "heatmapgl"
           }
          ],
          "histogram": [
           {
            "marker": {
             "pattern": {
              "fillmode": "overlay",
              "size": 10,
              "solidity": 0.2
             }
            },
            "type": "histogram"
           }
          ],
          "histogram2d": [
           {
            "colorbar": {
             "outlinewidth": 0,
             "ticks": ""
            },
            "colorscale": [
             [
              0,
              "#0d0887"
             ],
             [
              0.1111111111111111,
              "#46039f"
             ],
             [
              0.2222222222222222,
              "#7201a8"
             ],
             [
              0.3333333333333333,
              "#9c179e"
             ],
             [
              0.4444444444444444,
              "#bd3786"
             ],
             [
              0.5555555555555556,
              "#d8576b"
             ],
             [
              0.6666666666666666,
              "#ed7953"
             ],
             [
              0.7777777777777778,
              "#fb9f3a"
             ],
             [
              0.8888888888888888,
              "#fdca26"
             ],
             [
              1,
              "#f0f921"
             ]
            ],
            "type": "histogram2d"
           }
          ],
          "histogram2dcontour": [
           {
            "colorbar": {
             "outlinewidth": 0,
             "ticks": ""
            },
            "colorscale": [
             [
              0,
              "#0d0887"
             ],
             [
              0.1111111111111111,
              "#46039f"
             ],
             [
              0.2222222222222222,
              "#7201a8"
             ],
             [
              0.3333333333333333,
              "#9c179e"
             ],
             [
              0.4444444444444444,
              "#bd3786"
             ],
             [
              0.5555555555555556,
              "#d8576b"
             ],
             [
              0.6666666666666666,
              "#ed7953"
             ],
             [
              0.7777777777777778,
              "#fb9f3a"
             ],
             [
              0.8888888888888888,
              "#fdca26"
             ],
             [
              1,
              "#f0f921"
             ]
            ],
            "type": "histogram2dcontour"
           }
          ],
          "mesh3d": [
           {
            "colorbar": {
             "outlinewidth": 0,
             "ticks": ""
            },
            "type": "mesh3d"
           }
          ],
          "parcoords": [
           {
            "line": {
             "colorbar": {
              "outlinewidth": 0,
              "ticks": ""
             }
            },
            "type": "parcoords"
           }
          ],
          "pie": [
           {
            "automargin": true,
            "type": "pie"
           }
          ],
          "scatter": [
           {
            "fillpattern": {
             "fillmode": "overlay",
             "size": 10,
             "solidity": 0.2
            },
            "type": "scatter"
           }
          ],
          "scatter3d": [
           {
            "line": {
             "colorbar": {
              "outlinewidth": 0,
              "ticks": ""
             }
            },
            "marker": {
             "colorbar": {
              "outlinewidth": 0,
              "ticks": ""
             }
            },
            "type": "scatter3d"
           }
          ],
          "scattercarpet": [
           {
            "marker": {
             "colorbar": {
              "outlinewidth": 0,
              "ticks": ""
             }
            },
            "type": "scattercarpet"
           }
          ],
          "scattergeo": [
           {
            "marker": {
             "colorbar": {
              "outlinewidth": 0,
              "ticks": ""
             }
            },
            "type": "scattergeo"
           }
          ],
          "scattergl": [
           {
            "marker": {
             "colorbar": {
              "outlinewidth": 0,
              "ticks": ""
             }
            },
            "type": "scattergl"
           }
          ],
          "scattermapbox": [
           {
            "marker": {
             "colorbar": {
              "outlinewidth": 0,
              "ticks": ""
             }
            },
            "type": "scattermapbox"
           }
          ],
          "scatterpolar": [
           {
            "marker": {
             "colorbar": {
              "outlinewidth": 0,
              "ticks": ""
             }
            },
            "type": "scatterpolar"
           }
          ],
          "scatterpolargl": [
           {
            "marker": {
             "colorbar": {
              "outlinewidth": 0,
              "ticks": ""
             }
            },
            "type": "scatterpolargl"
           }
          ],
          "scatterternary": [
           {
            "marker": {
             "colorbar": {
              "outlinewidth": 0,
              "ticks": ""
             }
            },
            "type": "scatterternary"
           }
          ],
          "surface": [
           {
            "colorbar": {
             "outlinewidth": 0,
             "ticks": ""
            },
            "colorscale": [
             [
              0,
              "#0d0887"
             ],
             [
              0.1111111111111111,
              "#46039f"
             ],
             [
              0.2222222222222222,
              "#7201a8"
             ],
             [
              0.3333333333333333,
              "#9c179e"
             ],
             [
              0.4444444444444444,
              "#bd3786"
             ],
             [
              0.5555555555555556,
              "#d8576b"
             ],
             [
              0.6666666666666666,
              "#ed7953"
             ],
             [
              0.7777777777777778,
              "#fb9f3a"
             ],
             [
              0.8888888888888888,
              "#fdca26"
             ],
             [
              1,
              "#f0f921"
             ]
            ],
            "type": "surface"
           }
          ],
          "table": [
           {
            "cells": {
             "fill": {
              "color": "#EBF0F8"
             },
             "line": {
              "color": "white"
             }
            },
            "header": {
             "fill": {
              "color": "#C8D4E3"
             },
             "line": {
              "color": "white"
             }
            },
            "type": "table"
           }
          ]
         },
         "layout": {
          "annotationdefaults": {
           "arrowcolor": "#2a3f5f",
           "arrowhead": 0,
           "arrowwidth": 1
          },
          "autotypenumbers": "strict",
          "coloraxis": {
           "colorbar": {
            "outlinewidth": 0,
            "ticks": ""
           }
          },
          "colorscale": {
           "diverging": [
            [
             0,
             "#8e0152"
            ],
            [
             0.1,
             "#c51b7d"
            ],
            [
             0.2,
             "#de77ae"
            ],
            [
             0.3,
             "#f1b6da"
            ],
            [
             0.4,
             "#fde0ef"
            ],
            [
             0.5,
             "#f7f7f7"
            ],
            [
             0.6,
             "#e6f5d0"
            ],
            [
             0.7,
             "#b8e186"
            ],
            [
             0.8,
             "#7fbc41"
            ],
            [
             0.9,
             "#4d9221"
            ],
            [
             1,
             "#276419"
            ]
           ],
           "sequential": [
            [
             0,
             "#0d0887"
            ],
            [
             0.1111111111111111,
             "#46039f"
            ],
            [
             0.2222222222222222,
             "#7201a8"
            ],
            [
             0.3333333333333333,
             "#9c179e"
            ],
            [
             0.4444444444444444,
             "#bd3786"
            ],
            [
             0.5555555555555556,
             "#d8576b"
            ],
            [
             0.6666666666666666,
             "#ed7953"
            ],
            [
             0.7777777777777778,
             "#fb9f3a"
            ],
            [
             0.8888888888888888,
             "#fdca26"
            ],
            [
             1,
             "#f0f921"
            ]
           ],
           "sequentialminus": [
            [
             0,
             "#0d0887"
            ],
            [
             0.1111111111111111,
             "#46039f"
            ],
            [
             0.2222222222222222,
             "#7201a8"
            ],
            [
             0.3333333333333333,
             "#9c179e"
            ],
            [
             0.4444444444444444,
             "#bd3786"
            ],
            [
             0.5555555555555556,
             "#d8576b"
            ],
            [
             0.6666666666666666,
             "#ed7953"
            ],
            [
             0.7777777777777778,
             "#fb9f3a"
            ],
            [
             0.8888888888888888,
             "#fdca26"
            ],
            [
             1,
             "#f0f921"
            ]
           ]
          },
          "colorway": [
           "#636efa",
           "#EF553B",
           "#00cc96",
           "#ab63fa",
           "#FFA15A",
           "#19d3f3",
           "#FF6692",
           "#B6E880",
           "#FF97FF",
           "#FECB52"
          ],
          "font": {
           "color": "#2a3f5f"
          },
          "geo": {
           "bgcolor": "white",
           "lakecolor": "white",
           "landcolor": "#E5ECF6",
           "showlakes": true,
           "showland": true,
           "subunitcolor": "white"
          },
          "hoverlabel": {
           "align": "left"
          },
          "hovermode": "closest",
          "mapbox": {
           "style": "light"
          },
          "paper_bgcolor": "white",
          "plot_bgcolor": "#E5ECF6",
          "polar": {
           "angularaxis": {
            "gridcolor": "white",
            "linecolor": "white",
            "ticks": ""
           },
           "bgcolor": "#E5ECF6",
           "radialaxis": {
            "gridcolor": "white",
            "linecolor": "white",
            "ticks": ""
           }
          },
          "scene": {
           "xaxis": {
            "backgroundcolor": "#E5ECF6",
            "gridcolor": "white",
            "gridwidth": 2,
            "linecolor": "white",
            "showbackground": true,
            "ticks": "",
            "zerolinecolor": "white"
           },
           "yaxis": {
            "backgroundcolor": "#E5ECF6",
            "gridcolor": "white",
            "gridwidth": 2,
            "linecolor": "white",
            "showbackground": true,
            "ticks": "",
            "zerolinecolor": "white"
           },
           "zaxis": {
            "backgroundcolor": "#E5ECF6",
            "gridcolor": "white",
            "gridwidth": 2,
            "linecolor": "white",
            "showbackground": true,
            "ticks": "",
            "zerolinecolor": "white"
           }
          },
          "shapedefaults": {
           "line": {
            "color": "#2a3f5f"
           }
          },
          "ternary": {
           "aaxis": {
            "gridcolor": "white",
            "linecolor": "white",
            "ticks": ""
           },
           "baxis": {
            "gridcolor": "white",
            "linecolor": "white",
            "ticks": ""
           },
           "bgcolor": "#E5ECF6",
           "caxis": {
            "gridcolor": "white",
            "linecolor": "white",
            "ticks": ""
           }
          },
          "title": {
           "x": 0.05
          },
          "xaxis": {
           "automargin": true,
           "gridcolor": "white",
           "linecolor": "white",
           "ticks": "",
           "title": {
            "standoff": 15
           },
           "zerolinecolor": "white",
           "zerolinewidth": 2
          },
          "yaxis": {
           "automargin": true,
           "gridcolor": "white",
           "linecolor": "white",
           "ticks": "",
           "title": {
            "standoff": 15
           },
           "zerolinecolor": "white",
           "zerolinewidth": 2
          }
         }
        },
        "title": {
         "text": "社团类别"
        }
       }
      },
      "image/png": "[encoded data removed]",
      "text/html": [
       "<div>                            <div id=\"42796be4-59ba-4e63-b983-71afb38e6f31\" class=\"plotly-graph-div\" style=\"height:525px; width:100%;\"></div>            <script type=\"text/javascript\">                require([\"plotly\"], function(Plotly) {                    window.PLOTLYENV=window.PLOTLYENV || {};                                    if (document.getElementById(\"42796be4-59ba-4e63-b983-71afb38e6f31\")) {                    Plotly.newPlot(                        \"42796be4-59ba-4e63-b983-71afb38e6f31\",                        [{\"domain\":{\"x\":[0.0,1.0],\"y\":[0.0,1.0]},\"hovertemplate\":\"Type=%{label}<br>Count=%{value}<extra></extra>\",\"labels\":[\"\\u5176\\u4ed6\\u7c7b\",\"\\u521b\\u65b0\\u521b\\u4e1a\\u7c7b\",\"\\u5b66\\u672f\\u79d1\\u6280\\u7c7b\",\"\\u5fd7\\u613f\\u516c\\u76ca\\u7c7b\",\"\\u601d\\u60f3\\u653f\\u6cbb\\u7c7b\",\"\\u6587\\u5316\\u4f53\\u80b2\\u7c7b\",\"\\u81ea\\u5f8b\\u4e92\\u52a9\\u7c7b\"],\"legendgroup\":\"\",\"name\":\"\",\"showlegend\":true,\"values\":[19,2,11,2,3,55,10],\"type\":\"pie\",\"textinfo\":\"percent+label\",\"textposition\":\"inside\"}],                        {\"template\":{\"data\":{\"histogram2dcontour\":[{\"type\":\"histogram2dcontour\",\"colorbar\":{\"outlinewidth\":0,\"ticks\":\"\"},\"colorscale\":[[0.0,\"#0d0887\"],[0.1111111111111111,\"#46039f\"],[0.2222222222222222,\"#7201a8\"],[0.3333333333333333,\"#9c179e\"],[0.4444444444444444,\"#bd3786\"],[0.5555555555555556,\"#d8576b\"],[0.6666666666666666,\"#ed7953\"],[0.7777777777777778,\"#fb9f3a\"],[0.8888888888888888,\"#fdca26\"],[1.0,\"#f0f921\"]]}],\"choropleth\":[{\"type\":\"choropleth\",\"colorbar\":{\"outlinewidth\":0,\"ticks\":\"\"}}],\"histogram2d\":[{\"type\":\"histogram2d\",\"colorbar\":{\"outlinewidth\":0,\"ticks\":\"\"},\"colorscale\":[[0.0,\"#0d0887\"],[0.1111111111111111,\"#46039f\"],[0.2222222222222222,\"#7201a8\"],[0.3333333333333333,\"#9c179e\"],[0.4444444444444444,\"#bd3786\"],[0.5555555555555556,\"#d8576b\"],[0.6666666666666666,\"#ed7953\"],[0.7777777777777778,\"#fb9f3a\"],[0.8888888888888888,\"#fdca26\"],[1.0,\"#f0f921\"]]}],\"heatmap\":[{\"type\":\"heatmap\",\"colorbar\":{\"outlinewidth\":0,\"ticks\":\"\"},\"colorscale\":[[0.0,\"#0d0887\"],[0.1111111111111111,\"#46039f\"],[0.2222222222222222,\"#7201a8\"],[0.3333333333333333,\"#9c179e\"],[0.4444444444444444,\"#bd3786\"],[0.5555555555555556,\"#d8576b\"],[0.6666666666666666,\"#ed7953\"],[0.7777777777777778,\"#fb9f3a\"],[0.8888888888888888,\"#fdca26\"],[1.0,\"#f0f921\"]]}],\"heatmapgl\":[{\"type\":\"heatmapgl\",\"colorbar\":{\"outlinewidth\":0,\"ticks\":\"\"},\"colorscale\":[[0.0,\"#0d0887\"],[0.1111111111111111,\"#46039f\"],[0.2222222222222222,\"#7201a8\"],[0.3333333333333333,\"#9c179e\"],[0.4444444444444444,\"#bd3786\"],[0.5555555555555556,\"#d8576b\"],[0.6666666666666666,\"#ed7953\"],[0.7777777777777778,\"#fb9f3a\"],[0.8888888888888888,\"#fdca26\"],[1.0,\"#f0f921\"]]}],\"contourcarpet\":[{\"type\":\"contourcarpet\",\"colorbar\":{\"outlinewidth\":0,\"ticks\":\"\"}}],\"contour\":[{\"type\":\"contour\",\"colorbar\":{\"outlinewidth\":0,\"ticks\":\"\"},\"colorscale\":[[0.0,\"#0d0887\"],[0.1111111111111111,\"#46039f\"],[0.2222222222222222,\"#7201a8\"],[0.3333333333333333,\"#9c179e\"],[0.4444444444444444,\"#bd3786\"],[0.5555555555555556,\"#d8576b\"],[0.6666666666666666,\"#ed7953\"],[0.7777777777777778,\"#fb9f3a\"],[0.8888888888888888,\"#fdca26\"],[1.0,\"#f0f921\"]]}],\"surface\":[{\"type\":\"surface\",\"colorbar\":{\"outlinewidth\":0,\"ticks\":\"\"},\"colorscale\":[[0.0,\"#0d0887\"],[0.1111111111111111,\"#46039f\"],[0.2222222222222222,\"#7201a8\"],[0.3333333333333333,\"#9c179e\"],[0.4444444444444444,\"#bd3786\"],[0.5555555555555556,\"#d8576b\"],[0.6666666666666666,\"#ed7953\"],[0.7777777777777778,\"#fb9f3a\"],[0.8888888888888888,\"#fdca26\"],[1.0,\"#f0f921\"]]}],\"mesh3d\":[{\"type\":\"mesh3d\",\"colorbar\":{\"outlinewidth\":0,\"ticks\":\"\"}}],\"scatter\":[{\"fillpattern\":{\"fillmode\":\"overlay\",\"size\":10,\"solidity\":0.2},\"type\":\"scatter\"}],\"parcoords\":[{\"type\":\"parcoords\",\"line\":{\"colorbar\":{\"outlinewidth\":0,\"ticks\":\"\"}}}],\"scatterpolargl\":[{\"type\":\"scatterpolargl\",\"marker\":{\"colorbar\":{\"outlinewidth\":0,\"ticks\":\"\"}}}],\"bar\":[{\"error_x\":{\"color\":\"#2a3f5f\"},\"error_y\":{\"color\":\"#2a3f5f\"},\"marker\":{\"line\":{\"color\":\"#E5ECF6\",\"width\":0.5},\"pattern\":{\"fillmode\":\"overlay\",\"size\":10,\"solidity\":0.2}},\"type\":\"bar\"}],\"scattergeo\":[{\"type\":\"scattergeo\",\"marker\":{\"colorbar\":{\"outlinewidth\":0,\"ticks\":\"\"}}}],\"scatterpolar\":[{\"type\":\"scatterpolar\",\"marker\":{\"colorbar\":{\"outlinewidth\":0,\"ticks\":\"\"}}}],\"histogram\":[{\"marker\":{\"pattern\":{\"fillmode\":\"overlay\",\"size\":10,\"solidity\":0.2}},\"type\":\"histogram\"}],\"scattergl\":[{\"type\":\"scattergl\",\"marker\":{\"colorbar\":{\"outlinewidth\":0,\"ticks\":\"\"}}}],\"scatter3d\":[{\"type\":\"scatter3d\",\"line\":{\"colorbar\":{\"outlinewidth\":0,\"ticks\":\"\"}},\"marker\":{\"colorbar\":{\"outlinewidth\":0,\"ticks\":\"\"}}}],\"scattermapbox\":[{\"type\":\"scattermapbox\",\"marker\":{\"colorbar\":{\"outlinewidth\":0,\"ticks\":\"\"}}}],\"scatterternary\":[{\"type\":\"scatterternary\",\"marker\":{\"colorbar\":{\"outlinewidth\":0,\"ticks\":\"\"}}}],\"scattercarpet\":[{\"type\":\"scattercarpet\",\"marker\":{\"colorbar\":{\"outlinewidth\":0,\"ticks\":\"\"}}}],\"carpet\":[{\"aaxis\":{\"endlinecolor\":\"#2a3f5f\",\"gridcolor\":\"white\",\"linecolor\":\"white\",\"minorgridcolor\":\"white\",\"startlinecolor\":\"#2a3f5f\"},\"baxis\":{\"endlinecolor\":\"#2a3f5f\",\"gridcolor\":\"white\",\"linecolor\":\"white\",\"minorgridcolor\":\"white\",\"startlinecolor\":\"#2a3f5f\"},\"type\":\"carpet\"}],\"table\":[{\"cells\":{\"fill\":{\"color\":\"#EBF0F8\"},\"line\":{\"color\":\"white\"}},\"header\":{\"fill\":{\"color\":\"#C8D4E3\"},\"line\":{\"color\":\"white\"}},\"type\":\"table\"}],\"barpolar\":[{\"marker\":{\"line\":{\"color\":\"#E5ECF6\",\"width\":0.5},\"pattern\":{\"fillmode\":\"overlay\",\"size\":10,\"solidity\":0.2}},\"type\":\"barpolar\"}],\"pie\":[{\"automargin\":true,\"type\":\"pie\"}]},\"layout\":{\"autotypenumbers\":\"strict\",\"colorway\":[\"#636efa\",\"#EF553B\",\"#00cc96\",\"#ab63fa\",\"#FFA15A\",\"#19d3f3\",\"#FF6692\",\"#B6E880\",\"#FF97FF\",\"#FECB52\"],\"font\":{\"color\":\"#2a3f5f\"},\"hovermode\":\"closest\",\"hoverlabel\":{\"align\":\"left\"},\"paper_bgcolor\":\"white\",\"plot_bgcolor\":\"#E5ECF6\",\"polar\":{\"bgcolor\":\"#E5ECF6\",\"angularaxis\":{\"gridcolor\":\"white\",\"linecolor\":\"white\",\"ticks\":\"\"},\"radialaxis\":{\"gridcolor\":\"white\",\"linecolor\":\"white\",\"ticks\":\"\"}},\"ternary\":{\"bgcolor\":\"#E5ECF6\",\"aaxis\":{\"gridcolor\":\"white\",\"linecolor\":\"white\",\"ticks\":\"\"},\"baxis\":{\"gridcolor\":\"white\",\"linecolor\":\"white\",\"ticks\":\"\"},\"caxis\":{\"gridcolor\":\"white\",\"linecolor\":\"white\",\"ticks\":\"\"}},\"coloraxis\":{\"colorbar\":{\"outlinewidth\":0,\"ticks\":\"\"}},\"colorscale\":{\"sequential\":[[0.0,\"#0d0887\"],[0.1111111111111111,\"#46039f\"],[0.2222222222222222,\"#7201a8\"],[0.3333333333333333,\"#9c179e\"],[0.4444444444444444,\"#bd3786\"],[0.5555555555555556,\"#d8576b\"],[0.6666666666666666,\"#ed7953\"],[0.7777777777777778,\"#fb9f3a\"],[0.8888888888888888,\"#fdca26\"],[1.0,\"#f0f921\"]],\"sequentialminus\":[[0.0,\"#0d0887\"],[0.1111111111111111,\"#46039f\"],[0.2222222222222222,\"#7201a8\"],[0.3333333333333333,\"#9c179e\"],[0.4444444444444444,\"#bd3786\"],[0.5555555555555556,\"#d8576b\"],[0.6666666666666666,\"#ed7953\"],[0.7777777777777778,\"#fb9f3a\"],[0.8888888888888888,\"#fdca26\"],[1.0,\"#f0f921\"]],\"diverging\":[[0,\"#8e0152\"],[0.1,\"#c51b7d\"],[0.2,\"#de77ae\"],[0.3,\"#f1b6da\"],[0.4,\"#fde0ef\"],[0.5,\"#f7f7f7\"],[0.6,\"#e6f5d0\"],[0.7,\"#b8e186\"],[0.8,\"#7fbc41\"],[0.9,\"#4d9221\"],[1,\"#276419\"]]},\"xaxis\":{\"gridcolor\":\"white\",\"linecolor\":\"white\",\"ticks\":\"\",\"title\":{\"standoff\":15},\"zerolinecolor\":\"white\",\"automargin\":true,\"zerolinewidth\":2},\"yaxis\":{\"gridcolor\":\"white\",\"linecolor\":\"white\",\"ticks\":\"\",\"title\":{\"standoff\":15},\"zerolinecolor\":\"white\",\"automargin\":true,\"zerolinewidth\":2},\"scene\":{\"xaxis\":{\"backgroundcolor\":\"#E5ECF6\",\"gridcolor\":\"white\",\"linecolor\":\"white\",\"showbackground\":true,\"ticks\":\"\",\"zerolinecolor\":\"white\",\"gridwidth\":2},\"yaxis\":{\"backgroundcolor\":\"#E5ECF6\",\"gridcolor\":\"white\",\"linecolor\":\"white\",\"showbackground\":true,\"ticks\":\"\",\"zerolinecolor\":\"white\",\"gridwidth\":2},\"zaxis\":{\"backgroundcolor\":\"#E5ECF6\",\"gridcolor\":\"white\",\"linecolor\":\"white\",\"showbackground\":true,\"ticks\":\"\",\"zerolinecolor\":\"white\",\"gridwidth\":2}},\"shapedefaults\":{\"line\":{\"color\":\"#2a3f5f\"}},\"annotationdefaults\":{\"arrowcolor\":\"#2a3f5f\",\"arrowhead\":0,\"arrowwidth\":1},\"geo\":{\"bgcolor\":\"white\",\"landcolor\":\"#E5ECF6\",\"subunitcolor\":\"white\",\"showland\":true,\"showlakes\":true,\"lakecolor\":\"white\"},\"title\":{\"x\":0.05},\"mapbox\":{\"style\":\"light\"}}},\"legend\":{\"tracegroupgap\":0},\"title\":{\"text\":\"\\u793e\\u56e2\\u7c7b\\u522b\"}},                        {\"responsive\": true}                    ).then(function(){\n",
       "                            \n",
       "var gd = document.getElementById('42796be4-59ba-4e63-b983-71afb38e6f31');\n",
       "var x = new MutationObserver(function (mutations, observer) {{\n",
       "        var display = window.getComputedStyle(gd).display;\n",
       "        if (!display || display === 'none') {{\n",
       "            console.log([gd, 'removed!']);\n",
       "            Plotly.purge(gd);\n",
       "            observer.disconnect();\n",
       "        }}\n",
       "}});\n",
       "\n",
       "// Listen for the removal of the full notebook cells\n",
       "var notebookContainer = gd.closest('#notebook-container');\n",
       "if (notebookContainer) {{\n",
       "    x.observe(notebookContainer, {childList: true});\n",
       "}}\n",
       "\n",
       "// Listen for the clearing of the current output cell\n",
       "var outputEl = gd.closest('.output');\n",
       "if (outputEl) {{\n",
       "    x.observe(outputEl, {childList: true});\n",
       "}}\n",
       "\n",
       "                        })                };                });            </script>        </div>"
      ]
     },
     "metadata": {},
     "output_type": "display_data"
    }
   ],
   "source": [
    "fig = px.pie(club_type_count, values='Count', names=club_type_count.index, title='社团类别')\n",
    "fig.update_traces(textposition='inside', textinfo='percent+label')"
   ]
  },
  {
   "cell_type": "code",
   "execution_count": 32,
   "id": "f8b12728-16c8-4d11-a45a-98572007ec73",
   "metadata": {},
   "outputs": [
    {
     "data": {
      "text/plain": [
       "array(['青廉社', '新禾融媒体工作室', '校史文化宣讲团', '国旗护卫队', '学工融媒体中心', '学生社区自我管理委员会',\n",
       "       '新长城自强社', '大学生勤工助学服务队', '心理健康辅导中心阳光团队', '学生职业规划园', '学生科技创新与创业联合会',\n",
       "       '青年学“习”社', '研究生科学技术协会', '模型协会', '青苹果话剧社', '轮滑协会', '天文爱好者协会',\n",
       "       '大学生创业协会', '创益青年', '创造与成功协会', '璃羽漫画协会', '跆拳道协会', '劲抽粤文化协会', '书画社',\n",
       "       '吉他协会', '紫荆口琴社', '摄影协会', '推理协会', '音乐爱好者协会', '南蓁汉服协会', '益智游戏协会',\n",
       "       'beatbox协会', '公共关系协会', '龙狮团', 'SCSC滑板协会', '乒乓球协会', 'Air极限飞盘协会',\n",
       "       '手球协会', '台球协会', '橄榄球协会', '羽毛球协会', '篮球协会', '定向越野协会', '武术协会', '排球协会',\n",
       "       '毽球协会', '足球协会', '网球协会', 'aoe英语口语协会', '韩国语言与文化交流协会', '若木日语学社',\n",
       "       '法治研究会', '菁菁诗社', '绿窗文学社', '义务工作者协会', '雄鹰锣鼓队协会', '魔术爱好者协会',\n",
       "       '演讲与口才协会', '茶文化协会', '花卉艺术协会', '植物分类协会', '植物观赏协会', '旅游协会',\n",
       "       '小动物爱护协会', '葡萄酒文化协会', '环保科技协会', '军事爱好者协会', '无人机协会', '昆虫爱好者协会',\n",
       "       '棋牌协会', '水族协会', '青年时政论坛社', '学生艺术团', '学生合唱团', '管乐团', '研究生艺术团',\n",
       "       '模拟政协', '学生教学信息委员会', '膳食管理委员会', '紫荆读者俱乐部', '校友服务中心', '紫荆华农马协会',\n",
       "       '椇橼学社', '百花园', '茶艺团', '花艺团', '境泉学社', '青年森林经理学社', '方程式赛车队', '机器人协会',\n",
       "       '建筑学社', '结构设计工作室', '计算机维护队', 'ERP研究社', '英语辩论队', '光电信息协会', '单片机协会',\n",
       "       '人工智能协会', '法律实践教学中心', '中文实践教学中心', '匹克球协会', '太极拳协会'], dtype=object)"
      ]
     },
     "execution_count": 32,
     "metadata": {},
     "output_type": "execute_result"
    }
   ],
   "source": [
    "df['ClubName'].values"
   ]
  },
  {
   "cell_type": "code",
   "execution_count": 65,
   "id": "44738ac6-2f94-4abe-8fc8-16b08752a328",
   "metadata": {},
   "outputs": [
    {
     "data": {
      "text/html": [
       "<div>\n",
       "<style scoped>\n",
       "    .dataframe tbody tr th:only-of-type {\n",
       "        vertical-align: middle;\n",
       "    }\n",
       "\n",
       "    .dataframe tbody tr th {\n",
       "        vertical-align: top;\n",
       "    }\n",
       "\n",
       "    .dataframe thead th {\n",
       "        text-align: right;\n",
       "    }\n",
       "</style>\n",
       "<table border=\"1\" class=\"dataframe\">\n",
       "  <thead>\n",
       "    <tr style=\"text-align: right;\">\n",
       "      <th></th>\n",
       "      <th>Name</th>\n",
       "      <th>Club</th>\n",
       "      <th>Contact</th>\n",
       "      <th>Role</th>\n",
       "      <th>Grade</th>\n",
       "      <th>Major</th>\n",
       "      <th>Class</th>\n",
       "      <th>FeeToPay</th>\n",
       "    </tr>\n",
       "  </thead>\n",
       "  <tbody>\n",
       "    <tr>\n",
       "      <th>0</th>\n",
       "      <td>朱德·贝林汉姆</td>\n",
       "      <td>小动物爱护协会</td>\n",
       "      <td>13318020310</td>\n",
       "      <td>管理员</td>\n",
       "      <td>2022</td>\n",
       "      <td>哲学</td>\n",
       "      <td>2</td>\n",
       "      <td>0</td>\n",
       "    </tr>\n",
       "    <tr>\n",
       "      <th>1</th>\n",
       "      <td>布卡约·萨卡</td>\n",
       "      <td>beatbox协会</td>\n",
       "      <td>13965363594</td>\n",
       "      <td>社长</td>\n",
       "      <td>2021</td>\n",
       "      <td>工商管理</td>\n",
       "      <td>9</td>\n",
       "      <td>0</td>\n",
       "    </tr>\n",
       "    <tr>\n",
       "      <th>2</th>\n",
       "      <td>拉明·亚马尔</td>\n",
       "      <td>校友服务中心</td>\n",
       "      <td>13576676237</td>\n",
       "      <td>管理员</td>\n",
       "      <td>2021</td>\n",
       "      <td>护理学</td>\n",
       "      <td>4</td>\n",
       "      <td>0</td>\n",
       "    </tr>\n",
       "    <tr>\n",
       "      <th>3</th>\n",
       "      <td>莫伊塞斯·凯塞多</td>\n",
       "      <td>心理健康辅导中心阳光团队</td>\n",
       "      <td>13225260608</td>\n",
       "      <td>社长</td>\n",
       "      <td>2023</td>\n",
       "      <td>生物</td>\n",
       "      <td>9</td>\n",
       "      <td>0</td>\n",
       "    </tr>\n",
       "    <tr>\n",
       "      <th>4</th>\n",
       "      <td>贾马尔·穆西亚拉</td>\n",
       "      <td>若木日语学社</td>\n",
       "      <td>13921729472</td>\n",
       "      <td>社长</td>\n",
       "      <td>2022</td>\n",
       "      <td>市场营销</td>\n",
       "      <td>9</td>\n",
       "      <td>0</td>\n",
       "    </tr>\n",
       "    <tr>\n",
       "      <th>...</th>\n",
       "      <td>...</td>\n",
       "      <td>...</td>\n",
       "      <td>...</td>\n",
       "      <td>...</td>\n",
       "      <td>...</td>\n",
       "      <td>...</td>\n",
       "      <td>...</td>\n",
       "      <td>...</td>\n",
       "    </tr>\n",
       "    <tr>\n",
       "      <th>995</th>\n",
       "      <td>寇瑊</td>\n",
       "      <td>吉他协会</td>\n",
       "      <td>13649108696</td>\n",
       "      <td>社员</td>\n",
       "      <td>2022</td>\n",
       "      <td>英语</td>\n",
       "      <td>3</td>\n",
       "      <td>0</td>\n",
       "    </tr>\n",
       "    <tr>\n",
       "      <th>996</th>\n",
       "      <td>寇準</td>\n",
       "      <td>方程式赛车队</td>\n",
       "      <td>13799432314</td>\n",
       "      <td>社长</td>\n",
       "      <td>2020</td>\n",
       "      <td>酒店管理</td>\n",
       "      <td>3</td>\n",
       "      <td>0</td>\n",
       "    </tr>\n",
       "    <tr>\n",
       "      <th>997</th>\n",
       "      <td>寇平</td>\n",
       "      <td>模拟政协</td>\n",
       "      <td>13916949483</td>\n",
       "      <td>管理员</td>\n",
       "      <td>2022</td>\n",
       "      <td>工商管理</td>\n",
       "      <td>8</td>\n",
       "      <td>0</td>\n",
       "    </tr>\n",
       "    <tr>\n",
       "      <th>998</th>\n",
       "      <td>孔憲</td>\n",
       "      <td>光电信息协会</td>\n",
       "      <td>13516638828</td>\n",
       "      <td>管理员</td>\n",
       "      <td>2021</td>\n",
       "      <td>金融学</td>\n",
       "      <td>4</td>\n",
       "      <td>0</td>\n",
       "    </tr>\n",
       "    <tr>\n",
       "      <th>999</th>\n",
       "      <td>孔平仲</td>\n",
       "      <td>校史文化宣讲团</td>\n",
       "      <td>13588263815</td>\n",
       "      <td>社长</td>\n",
       "      <td>2022</td>\n",
       "      <td>药学</td>\n",
       "      <td>3</td>\n",
       "      <td>0</td>\n",
       "    </tr>\n",
       "  </tbody>\n",
       "</table>\n",
       "<p>1000 rows × 8 columns</p>\n",
       "</div>"
      ],
      "text/plain": [
       "         Name          Club      Contact Role  Grade Major  Class  FeeToPay\n",
       "0     朱德·贝林汉姆       小动物爱护协会  13318020310  管理员   2022    哲学      2         0\n",
       "1      布卡约·萨卡     beatbox协会  13965363594   社长   2021  工商管理      9         0\n",
       "2      拉明·亚马尔        校友服务中心  13576676237  管理员   2021   护理学      4         0\n",
       "3    莫伊塞斯·凯塞多  心理健康辅导中心阳光团队  13225260608   社长   2023    生物      9         0\n",
       "4    贾马尔·穆西亚拉        若木日语学社  13921729472   社长   2022  市场营销      9         0\n",
       "..        ...           ...          ...  ...    ...   ...    ...       ...\n",
       "995        寇瑊          吉他协会  13649108696   社员   2022    英语      3         0\n",
       "996        寇準        方程式赛车队  13799432314   社长   2020  酒店管理      3         0\n",
       "997        寇平          模拟政协  13916949483  管理员   2022  工商管理      8         0\n",
       "998        孔憲        光电信息协会  13516638828  管理员   2021   金融学      4         0\n",
       "999       孔平仲       校史文化宣讲团  13588263815   社长   2022    药学      3         0\n",
       "\n",
       "[1000 rows x 8 columns]"
      ]
     },
     "execution_count": 65,
     "metadata": {},
     "output_type": "execute_result"
    }
   ],
   "source": [
    "import pandas as pd\n",
    "import random\n",
    "import sqlite3\n",
    "\n",
    "connection = sqlite3.connect(\"latest.db\")\n",
    "\n",
    "# Create cursor\n",
    "cursor = connection.cursor()\n",
    "sql = \"SELECT * FROM CBDB_NAME_LIST\"\n",
    "cursor.execute(sql)\n",
    "result = cursor.fetchall()\n",
    "names = []\n",
    "for row in result:\n",
    "    names.append(row[1])\n",
    "\n",
    "columns = [\"Name\", \"Club\", \"Contact\", \"Role\", \"Grade\", \"Major\", \"Class\", \"FeeToPay\"]\n",
    "\n",
    "df2 = pd.DataFrame(columns=columns)\n",
    "\n",
    "clubs = ['青廉社', '新禾融媒体工作室', '校史文化宣讲团', '国旗护卫队', '学工融媒体中心', '学生社区自我管理委员会',\n",
    "       '新长城自强社', '大学生勤工助学服务队', '心理健康辅导中心阳光团队', '学生职业规划园', '学生科技创新与创业联合会',\n",
    "       '青年学“习”社', '研究生科学技术协会', '模型协会', '青苹果话剧社', '轮滑协会', '天文爱好者协会',\n",
    "       '大学生创业协会', '创益青年', '创造与成功协会', '璃羽漫画协会', '跆拳道协会', '劲抽粤文化协会', '书画社',\n",
    "       '吉他协会', '紫荆口琴社', '摄影协会', '推理协会', '音乐爱好者协会', '南蓁汉服协会', '益智游戏协会',\n",
    "       'beatbox协会', '公共关系协会', '龙狮团', 'SCSC滑板协会', '乒乓球协会', 'Air极限飞盘协会',\n",
    "       '手球协会', '台球协会', '橄榄球协会', '羽毛球协会', '篮球协会', '定向越野协会', '武术协会', '排球协会',\n",
    "       '毽球协会', '足球协会', '网球协会', 'aoe英语口语协会', '韩国语言与文化交流协会', '若木日语学社',\n",
    "       '法治研究会', '菁菁诗社', '绿窗文学社', '义务工作者协会', '雄鹰锣鼓队协会', '魔术爱好者协会',\n",
    "       '演讲与口才协会', '茶文化协会', '花卉艺术协会', '植物分类协会', '植物观赏协会', '旅游协会',\n",
    "       '小动物爱护协会', '葡萄酒文化协会', '环保科技协会', '军事爱好者协会', '无人机协会', '昆虫爱好者协会',\n",
    "       '棋牌协会', '水族协会', '青年时政论坛社', '学生艺术团', '学生合唱团', '管乐团', '研究生艺术团',\n",
    "       '模拟政协', '学生教学信息委员会', '膳食管理委员会', '紫荆读者俱乐部', '校友服务中心', '紫荆华农马协会',\n",
    "       '椇橼学社', '百花园', '茶艺团', '花艺团', '境泉学社', '青年森林经理学社', '方程式赛车队', '机器人协会',\n",
    "       '建筑学社', '结构设计工作室', '计算机维护队', 'ERP研究社', '英语辩论队', '光电信息协会', '单片机协会',\n",
    "       '人工智能协会', '法律实践教学中心', '中文实践教学中心', '匹克球协会', '太极拳协会']\n",
    "\n",
    "roles = [\"社长\", \"社员\", \"管理员\"]\n",
    "\n",
    "grades = [2023, 2022, 2021, 2020]\n",
    "\n",
    "players = pd.read_excel('FM24高潜小牛名单.xlsx')\n",
    "players = players.iloc[:100]['中文名'].tolist()\n",
    "players += names\n",
    "\n",
    "majors = [\"计算机科学\", \"经济学\", \"英语\", \"数学\", \"物理\", \"化学\", \"生物\", \"地理\", \"历史\", \"哲学\", \"政治学\",\n",
    "          \"法学\", \"教育学\", \"文学\", \"历史学\", \"考古学\", \"新闻学\", \"传播学\", \"艺术学\", \"音乐学\", \"体育学\",\n",
    "          \"医学\", \"药学\", \"护理学\", \"口腔医学\", \"公共卫生学\", \"管理学\", \"工商管理\", \"会计学\", \"金融学\",\n",
    "          \"市场营销\", \"人力资源管理\", \"国际贸易\", \"物流管理\", \"信息管理\", \"旅游管理\", \"酒店管理\", \"房地产管理\"]\n",
    "\n",
    "for i in range(1000):\n",
    "    df2.loc[i] = [\n",
    "        players[i],\n",
    "        random.choice(clubs),\n",
    "        random.randint(13000000000, 13999999999),\n",
    "        random.choice(roles),\n",
    "        random.choice(grades),\n",
    "        random.choice(majors),\n",
    "        random.choice([1, 2, 3, 4, 5, 6, 7, 8, 9]),\n",
    "        0,]\n",
    "df2"
   ]
  },
  {
   "cell_type": "code",
   "execution_count": 67,
   "id": "f4c44498-b6a1-4501-98e0-b0e6061688c6",
   "metadata": {},
   "outputs": [],
   "source": [
    "import sqlite3\n",
    "\n",
    "connection = sqlite3.connect(\"clubs_and_members.db\")\n",
    "cursor = connection.cursor()\n",
    "\n",
    "sql = \"\"\"\n",
    "    INSERT INTO Members (Name, Club, Contact, Role, Grade, Major, Class, FeeToPay)\n",
    "    VALUES (?, ?, ?, ?, ?, ?, ?, ?)\n",
    "\"\"\"\n",
    "\n",
    "for row in df2.values:\n",
    "    cursor.execute(sql, row)\n",
    "\n",
    "connection.commit()"
   ]
  },
  {
   "cell_type": "code",
   "execution_count": 55,
   "id": "1826ef74-87bf-4a3f-bc38-2011fe09ece9",
   "metadata": {},
   "outputs": [
    {
     "data": {
      "text/plain": [
       "['朱德·贝林汉姆',\n",
       " '布卡约·萨卡',\n",
       " '拉明·亚马尔',\n",
       " '莫伊塞斯·凯塞多',\n",
       " '贾马尔·穆西亚拉',\n",
       " '爱德华多·卡马温加',\n",
       " '乔什科·瓜尔迪奥尔',\n",
       " '努诺·门德斯',\n",
       " '佩德里',\n",
       " '迈克·摩尔',\n",
       " '埃斯特瓦奥',\n",
       " '恩德里克',\n",
       " '沃伦·扎伊尔-埃默里',\n",
       " '埃文·弗格森',\n",
       " '维托尔·罗克',\n",
       " '尤素福·穆库科',\n",
       " '加维',\n",
       " '亚历杜罗·巴尔德',\n",
       " '耶雷米·皮诺',\n",
       " '安苏·法蒂',\n",
       " '尼科·威廉姆斯',\n",
       " '乔治奥·斯卡尔维尼',\n",
       " '列维·科尔维尔',\n",
       " '瑞安·格拉文贝尔奇',\n",
       " '杰雷米·多库',\n",
       " '里科·刘易斯',\n",
       " '阿纳托利·特鲁宾',\n",
       " '皮耶罗·因卡皮',\n",
       " '迈克尔·奥利塞',\n",
       " '帕佩·马塔尔·萨尔',\n",
       " '伊桑·努瓦内里',\n",
       " '罗德里戈·莫拉',\n",
       " '诺亚·达维奇',\n",
       " '谢·莱西',\n",
       " '斯韦雷·哈尔塞斯·尼潘',\n",
       " '肯德里·帕耶斯',\n",
       " '洛兰',\n",
       " '路易斯·吉尔赫尔梅',\n",
       " '阿桑·韦德拉奥戈',\n",
       " '阿奇·格雷',\n",
       " '朱尼奥尔·克鲁皮',\n",
       " '西蒙·帕富迪',\n",
       " '沙奎尔·范佩西',\n",
       " '伊万·弗雷斯内达',\n",
       " '本·多克',\n",
       " '乌斯曼·迪奥曼德',\n",
       " '朱利安·杜兰维尔',\n",
       " '保罗·瓦纳',\n",
       " '若奥·韦洛索',\n",
       " '若奥·雷戈',\n",
       " '德西雷·杜埃',\n",
       " '乔雷尔·哈托',\n",
       " '埃利塞·本·塞吉尔',\n",
       " '马蒂斯·特尔',\n",
       " '罗德里戈·里贝罗',\n",
       " '巴德雷丁·布瓦纳尼',\n",
       " '吉约姆·雷斯特斯',\n",
       " '克劳迪奥·埃切韦里',\n",
       " '斯特凡·巴杰蒂奇',\n",
       " '阿尔达·古勒',\n",
       " '奥斯卡·格鲁赫',\n",
       " '安杰洛',\n",
       " '亚瑟·阿斯皮利亚',\n",
       " '亚历杭德罗·加纳乔',\n",
       " '塞缪尔·伊灵',\n",
       " '哈维·格雷拉',\n",
       " '瓦伦丁·巴尔科',\n",
       " '若奥·内维斯',\n",
       " '迈克尔·卡约德',\n",
       " '穆罕默德-阿里·乔',\n",
       " '亚历克斯·斯科特',\n",
       " '弗洛里安·维尔茨',\n",
       " '拉扎尔·萨马尔季奇',\n",
       " '安东尼奥·席尔瓦',\n",
       " '萨维·西蒙斯',\n",
       " '本杰明·舍斯科',\n",
       " '艾伦·希基',\n",
       " '雷扬·切尔基',\n",
       " '托马索·巴尔达扎尼',\n",
       " '切萨雷·卡萨代',\n",
       " '诺尼·马杜埃克',\n",
       " '蒂诺·利夫拉门托',\n",
       " '拉斯穆斯·霍伊隆德',\n",
       " '马科斯·莱昂纳多',\n",
       " '若奥·佩德罗',\n",
       " '罗密欧·拉维亚',\n",
       " '卡里姆·阿德亚米',\n",
       " '卡里姆·科纳特',\n",
       " '亚历克斯·巴埃纳',\n",
       " '埃利耶·瓦希',\n",
       " '哈维·埃利奥特',\n",
       " '马利克·蒂亚乌',\n",
       " '安德烈',\n",
       " '冈萨洛·伊纳西奥',\n",
       " '内森·帕特森',\n",
       " '乔里斯·舒塔尔',\n",
       " '尼科洛·罗韦拉',\n",
       " '伊兹·阿布德',\n",
       " '卢卡斯·舍瓦利埃',\n",
       " '威尔弗里德·格农托',\n",
       " '未詳',\n",
       " '安惇',\n",
       " '安邡',\n",
       " '安燾',\n",
       " '查道',\n",
       " '查籥',\n",
       " '柴成務',\n",
       " '柴天因',\n",
       " '常僅',\n",
       " '常任秩',\n",
       " '晁謙之',\n",
       " '晁公武',\n",
       " '晁公邁',\n",
       " '晁補之',\n",
       " '晁端彥',\n",
       " '陳安期',\n",
       " '陳安民',\n",
       " '陳安石',\n",
       " '陳安道',\n",
       " '陳察',\n",
       " '陳起宗',\n",
       " '陳倩',\n",
       " '陳求道',\n",
       " '陳充',\n",
       " '陳正同',\n",
       " '陳洎',\n",
       " '陳機',\n",
       " '夏侯彧',\n",
       " '陳絳',\n",
       " '陳桷',\n",
       " '陳建',\n",
       " '陳戩',\n",
       " '陳致',\n",
       " '陳知儉',\n",
       " '陳執中',\n",
       " '陳知倫',\n",
       " '陳之淵',\n",
       " '陳靖',\n",
       " '陳經',\n",
       " '陳扃',\n",
       " '陳舉',\n",
       " '陳鑄',\n",
       " '陳鉅',\n",
       " '陳郛',\n",
       " '陳漢',\n",
       " '陳繫',\n",
       " '陳向',\n",
       " '陳相',\n",
       " '陳象輿',\n",
       " '陳遜向',\n",
       " '陳琥',\n",
       " '陳輝',\n",
       " '陳紘',\n",
       " '陳洪',\n",
       " '陳繹',\n",
       " '陳若拙',\n",
       " '陳如錫',\n",
       " '陳汝錫',\n",
       " '陳榮古',\n",
       " '陳康國',\n",
       " '陳康民',\n",
       " '陳康伯',\n",
       " '陳膏',\n",
       " '陳廓',\n",
       " '陳古',\n",
       " '陳括',\n",
       " '陳貫',\n",
       " '陳公彥',\n",
       " '陳國瑞',\n",
       " '陳良弼',\n",
       " '陳隆壽',\n",
       " '陳彌作',\n",
       " '陳敏識',\n",
       " '陳邦光',\n",
       " '陳掞',\n",
       " '陳忱',\n",
       " '陳升之',\n",
       " '陳世卿',\n",
       " '陳師錫',\n",
       " '陳世修',\n",
       " '陳師尹',\n",
       " '陳璹',\n",
       " '陳恕',\n",
       " '陳述',\n",
       " '陳述古',\n",
       " '陳偲',\n",
       " '陳迪',\n",
       " '陳鼎',\n",
       " '陳橐',\n",
       " '陳粹',\n",
       " '陳從易',\n",
       " '陳從信',\n",
       " '陳從易',\n",
       " '陳敦夫',\n",
       " '徐越',\n",
       " '陳緯',\n",
       " '陳堯叟',\n",
       " '陳堯佐',\n",
       " '陳堯咨',\n",
       " '陳琰',\n",
       " '陳兗',\n",
       " '陳彥恭',\n",
       " '陳彥武',\n",
       " '陳祐之',\n",
       " '陳祐甫',\n",
       " '陳元直',\n",
       " '陳遠猷',\n",
       " '陳越',\n",
       " '程昌弼',\n",
       " '程昌寓',\n",
       " '程節',\n",
       " '程之邵',\n",
       " '程之才',\n",
       " '程之元',\n",
       " '程芾',\n",
       " '程戡',\n",
       " '程克俊',\n",
       " '程琳',\n",
       " '程邁',\n",
       " '程能',\n",
       " '程博文',\n",
       " '程師孟',\n",
       " '程嗣恭',\n",
       " '程唐',\n",
       " '程敦之',\n",
       " '程敦臨',\n",
       " '程文度',\n",
       " '程瑀',\n",
       " '程佑之',\n",
       " '程元佐',\n",
       " '程筠',\n",
       " '成奕',\n",
       " '成大亨',\n",
       " '戚綸',\n",
       " '齊旦',\n",
       " '強浚明',\n",
       " '強友諒',\n",
       " '喬執中',\n",
       " '喬方運',\n",
       " '喬敘',\n",
       " '喬維岳',\n",
       " '錢曖',\n",
       " '錢昌武',\n",
       " '錢景山',\n",
       " '錢勰',\n",
       " '錢易',\n",
       " '錢公輔',\n",
       " '錢秉之',\n",
       " '錢時敏',\n",
       " '錢端禮',\n",
       " '錢端英',\n",
       " '錢遹',\n",
       " '錢曜',\n",
       " '秦昌時',\n",
       " '秦中',\n",
       " '秦羲',\n",
       " '秦希甫',\n",
       " '秦伯祥',\n",
       " '秦定',\n",
       " '秦梓',\n",
       " '丘雍',\n",
       " '裘多見',\n",
       " '楚昭輔',\n",
       " '楚建中',\n",
       " '權邦彥',\n",
       " '詹公薦',\n",
       " '詹太和',\n",
       " '詹大方',\n",
       " '詹度',\n",
       " '詹彥弓',\n",
       " '詹棫',\n",
       " '湛俞',\n",
       " '張安上',\n",
       " '張闡',\n",
       " '張昌',\n",
       " '張常先',\n",
       " '張臣',\n",
       " '張澄',\n",
       " '張偁',\n",
       " '張成憲',\n",
       " '張誠一',\n",
       " '張祁',\n",
       " '張齊賢',\n",
       " '張觷',\n",
       " '張去華',\n",
       " '張去惑',\n",
       " '張愨',\n",
       " '張羣',\n",
       " '張充宗',\n",
       " '張鎮',\n",
       " '張震',\n",
       " '張正中',\n",
       " '張佶',\n",
       " '張暨',\n",
       " '張吉甫',\n",
       " '張繼能',\n",
       " '張頡',\n",
       " '張鑑',\n",
       " '張植',\n",
       " '張知白',\n",
       " '張致遠',\n",
       " '張覲',\n",
       " '張靚',\n",
       " '張兢辰',\n",
       " '張景憲',\n",
       " '張景先',\n",
       " '張景溫',\n",
       " '張鑄',\n",
       " '張巨',\n",
       " '張莊',\n",
       " '張浚',\n",
       " '張仲欽',\n",
       " '張中庸',\n",
       " '張諤',\n",
       " '張諤',\n",
       " '張諤',\n",
       " '張方平',\n",
       " '張傅',\n",
       " '張復禮',\n",
       " '張漢彥',\n",
       " '張顥',\n",
       " '張賀',\n",
       " '張錫',\n",
       " '張錫',\n",
       " '張瓌',\n",
       " '張象中',\n",
       " '張孝純',\n",
       " '張獻',\n",
       " '張詵',\n",
       " '張行',\n",
       " '張修',\n",
       " '張遜',\n",
       " '張詢',\n",
       " '張峋',\n",
       " '張懷寶',\n",
       " '張渙',\n",
       " '張徽',\n",
       " '張匯',\n",
       " '張翬',\n",
       " '張徽言',\n",
       " '張鴻漸',\n",
       " '張億',\n",
       " '張益謙',\n",
       " '張日華',\n",
       " '張若谷',\n",
       " '張汝楫',\n",
       " '張汝賢',\n",
       " '張康國',\n",
       " '張可久',\n",
       " '張奎',\n",
       " '張逵',\n",
       " '張綱',\n",
       " '張杲',\n",
       " '張杲',\n",
       " '張根',\n",
       " '張觀',\n",
       " '張鞏',\n",
       " '張公濟',\n",
       " '張綸',\n",
       " '張茂宗',\n",
       " '張美',\n",
       " '張沔',\n",
       " '張穆之',\n",
       " '張嵲',\n",
       " '張邦光',\n",
       " '張寶',\n",
       " '張保雍',\n",
       " '張佖',\n",
       " '張秉',\n",
       " '張鎛',\n",
       " '張掞',\n",
       " '張商英',\n",
       " '張紳',\n",
       " '張深',\n",
       " '張升卿',\n",
       " '張適',\n",
       " '張適',\n",
       " '張士澄',\n",
       " '張士遜',\n",
       " '張師德',\n",
       " '張世才',\n",
       " '張師顏',\n",
       " '張綬',\n",
       " '張璹',\n",
       " '張述',\n",
       " '張塾',\n",
       " '張舒',\n",
       " '張叔椿',\n",
       " '張叔獻',\n",
       " '張書言',\n",
       " '張舜民',\n",
       " '張索',\n",
       " '張肅',\n",
       " '張巽',\n",
       " '張唐民',\n",
       " '張挺',\n",
       " '張太寧',\n",
       " '張燾',\n",
       " '張存',\n",
       " '張琮',\n",
       " '張璪',\n",
       " '張澤',\n",
       " '張宗諤',\n",
       " '張宗象',\n",
       " '張宗誨',\n",
       " '張宗彝',\n",
       " '張宗道',\n",
       " '張宗元',\n",
       " '張端',\n",
       " '張洞',\n",
       " '張次山',\n",
       " '張子華',\n",
       " '張子儀',\n",
       " '張自牧',\n",
       " '張琬',\n",
       " '郭思',\n",
       " '張問',\n",
       " '張昷之',\n",
       " '張亞之',\n",
       " '張堯臣',\n",
       " '張堯佐',\n",
       " '張郢',\n",
       " '張穎',\n",
       " '張佑',\n",
       " '張宇',\n",
       " '張友直',\n",
       " '張愿',\n",
       " '張元方',\n",
       " '張運',\n",
       " '張雍',\n",
       " '張顒',\n",
       " '張詠',\n",
       " '章惇',\n",
       " '章傑',\n",
       " '章僅',\n",
       " '章服',\n",
       " '章岵',\n",
       " '章煥文',\n",
       " '章誼',\n",
       " '章公弼',\n",
       " '章藺',\n",
       " '章頻',\n",
       " '章茇',\n",
       " '章得象',\n",
       " '章楶',\n",
       " '章元振',\n",
       " '趙澳',\n",
       " '趙昌言',\n",
       " '趙偁',\n",
       " '趙齊',\n",
       " '趙岍',\n",
       " '趙瞻',\n",
       " '趙稹',\n",
       " '趙濟',\n",
       " '趙戩',\n",
       " '趙志之',\n",
       " '趙仲和',\n",
       " '趙復',\n",
       " '趙賀',\n",
       " '趙湘',\n",
       " '趙咸',\n",
       " '趙億',\n",
       " '趙開',\n",
       " '趙公稱',\n",
       " '趙公智',\n",
       " '趙公竤',\n",
       " '趙公達',\n",
       " '趙良誕',\n",
       " '趙霖',\n",
       " '趙令詪',\n",
       " '趙令鑠',\n",
       " '趙滂',\n",
       " '趙霈',\n",
       " '趙玭',\n",
       " '趙抃',\n",
       " '趙彬免',\n",
       " '趙伯牛',\n",
       " '趙伯瑜',\n",
       " '趙伯魚',\n",
       " '趙不棄',\n",
       " '趙不己',\n",
       " '趙不凡',\n",
       " '趙不溢',\n",
       " '趙不弁',\n",
       " '趙不猷',\n",
       " '趙不愚',\n",
       " '趙晟',\n",
       " '趙師雄',\n",
       " '趙士鵬',\n",
       " '趙士彩',\n",
       " '李秬',\n",
       " '趙竦',\n",
       " '趙霆',\n",
       " '趙挺之',\n",
       " '趙鼎臣',\n",
       " '趙載',\n",
       " '趙子幾',\n",
       " '趙子淔',\n",
       " '趙子厚',\n",
       " '趙子潚',\n",
       " '趙子巖',\n",
       " '趙揚',\n",
       " '趙暘',\n",
       " '趙遹',\n",
       " '折彥質',\n",
       " '鄭靄',\n",
       " '鄭僑年',\n",
       " '鄭震',\n",
       " '鄭集',\n",
       " '鄭績',\n",
       " '鄭戩',\n",
       " '鄭知剛',\n",
       " '鄭僅',\n",
       " '鄭仲熊',\n",
       " '鄭向',\n",
       " '鄭驤',\n",
       " '鄭驤',\n",
       " '鄭讓',\n",
       " '鄭鬲',\n",
       " '李誡',\n",
       " '鄭良',\n",
       " '鄭士彥',\n",
       " '鄭天益',\n",
       " '鄭寀',\n",
       " '鄭載',\n",
       " '鄭資之',\n",
       " '鄭望之',\n",
       " '鄭文寶',\n",
       " '鄭佑',\n",
       " '吉觀國',\n",
       " '汲逢',\n",
       " '計有功',\n",
       " '郟亶',\n",
       " '賈安宅',\n",
       " '賈昌衡',\n",
       " '賈青',\n",
       " '賈昭明',\n",
       " '賈直清',\n",
       " '賈種民',\n",
       " '賈易',\n",
       " '賈若谷',\n",
       " '賈',\n",
       " '賈伯達',\n",
       " '賈收',\n",
       " '賈思誠',\n",
       " '賈宗',\n",
       " '賈偉節',\n",
       " '賈琰',\n",
       " '賈黯',\n",
       " '江仲甫',\n",
       " '江公著',\n",
       " '江叔詹',\n",
       " '江嗣宗',\n",
       " '江衍',\n",
       " '姜仲謙',\n",
       " '姜詵',\n",
       " '姜師仲',\n",
       " '姜師孟',\n",
       " '姜遵',\n",
       " '蔣及祖',\n",
       " '蔣之奇',\n",
       " '蔣彝',\n",
       " '蔣汝功',\n",
       " '蔣賁',\n",
       " '蔣堂',\n",
       " '蔣璨',\n",
       " '蹇周輔',\n",
       " '蹇序辰',\n",
       " '金安節',\n",
       " '金君卿',\n",
       " '金良孺',\n",
       " '靳博文',\n",
       " '井亮采',\n",
       " '井度',\n",
       " '周諶',\n",
       " '周池',\n",
       " '周純',\n",
       " '周湛',\n",
       " '周濟',\n",
       " '周嘉正',\n",
       " '周秩',\n",
       " '周直孺',\n",
       " '周之道',\n",
       " '周莊仲',\n",
       " '周穜',\n",
       " '周埅',\n",
       " '周沆',\n",
       " '周需',\n",
       " '周澣',\n",
       " '周奕',\n",
       " '周葵',\n",
       " '周綱',\n",
       " '周革',\n",
       " '周離亨',\n",
       " '周良孺',\n",
       " '周陵',\n",
       " '周伯俊',\n",
       " '周紳',\n",
       " '周實',\n",
       " '周師中',\n",
       " '周世修',\n",
       " '周操',\n",
       " '周淙',\n",
       " '周敦頤',\n",
       " '周綰',\n",
       " '周渭',\n",
       " '周沃',\n",
       " '周彥質',\n",
       " '周聿',\n",
       " '周約',\n",
       " '州石',\n",
       " '朱昂',\n",
       " '朱昌符',\n",
       " '朱初平',\n",
       " '朱正純',\n",
       " '朱玘',\n",
       " '朱諫',\n",
       " '朱宗',\n",
       " '朱賦',\n",
       " '朱夏卿',\n",
       " '朱巽',\n",
       " '朱異',\n",
       " '朱構',\n",
       " '朱冠卿',\n",
       " '牛冕',\n",
       " '朱明之',\n",
       " '朱勃',\n",
       " '朱伯虎',\n",
       " '朱商卿',\n",
       " '朱壽隆',\n",
       " '朱台符',\n",
       " '朱縡',\n",
       " '朱炎',\n",
       " '朱彥美',\n",
       " '朱彥博',\n",
       " '朱尹',\n",
       " '祝閔',\n",
       " '祝師龍',\n",
       " '句克儉',\n",
       " '句光祖',\n",
       " '鞠真卿',\n",
       " '鞠仲謀',\n",
       " '鞠勵',\n",
       " '鞠詠',\n",
       " '莊徽',\n",
       " '莊公岳',\n",
       " '莊必彊',\n",
       " '鍾正甫',\n",
       " '鍾浚',\n",
       " '鍾世明',\n",
       " '鍾伷',\n",
       " '仲簡',\n",
       " '鍾離瑾',\n",
       " '樊知古',\n",
       " '樊汝霖',\n",
       " '樊光遠',\n",
       " '樊賓',\n",
       " '樊廷讓',\n",
       " '范純仁',\n",
       " '范純禮',\n",
       " '范純粹',\n",
       " '范沖',\n",
       " '范漴',\n",
       " '范振',\n",
       " '范正國',\n",
       " '范正辭',\n",
       " '范之才',\n",
       " '范鍔',\n",
       " '范諷',\n",
       " '范祥',\n",
       " '范祥',\n",
       " '范璿',\n",
       " '范峋',\n",
       " '范塤',\n",
       " '范如圭',\n",
       " '范寬之',\n",
       " '范旻',\n",
       " '范百祿',\n",
       " '范伯思',\n",
       " '范世京',\n",
       " '范師道',\n",
       " '范鏜',\n",
       " '范峒',\n",
       " '范同',\n",
       " '范宗傑',\n",
       " '范子奇',\n",
       " '范子儀',\n",
       " '范子諒',\n",
       " '范子淵',\n",
       " '范寅秩',\n",
       " '范育',\n",
       " '范域',\n",
       " '范雍',\n",
       " '方知',\n",
       " '方宙',\n",
       " '方仲荀',\n",
       " '方偕',\n",
       " '方略',\n",
       " '方孟卿',\n",
       " '方慎言',\n",
       " '方師尹',\n",
       " '方澤',\n",
       " '方滋',\n",
       " '方沃',\n",
       " '費行之',\n",
       " '馮拯',\n",
       " '馮京',\n",
       " '馮方',\n",
       " '馮浩',\n",
       " '馮如晦',\n",
       " '馮康國',\n",
       " '周利見',\n",
       " '馮璉',\n",
       " '馮舜韶',\n",
       " '馮大臨',\n",
       " '馮溫舒',\n",
       " '馮由義',\n",
       " '逢汝舟',\n",
       " '逄汝霖',\n",
       " '符行中',\n",
       " '傅求',\n",
       " '傅傳正',\n",
       " '傅燮',\n",
       " '傅崧卿',\n",
       " '傅自修',\n",
       " '傅惟幾',\n",
       " '傅堯俞',\n",
       " '富弼',\n",
       " '富元衡',\n",
       " '韓琦',\n",
       " '韓跂',\n",
       " '韓球',\n",
       " '韓昭',\n",
       " '韓縝',\n",
       " '韓正彥',\n",
       " '韓絳',\n",
       " '韓玠',\n",
       " '韓贄',\n",
       " '韓璡',\n",
       " '韓晉卿',\n",
       " '韓璩',\n",
       " '韓琚',\n",
       " '韓仲通',\n",
       " '韓忠彥',\n",
       " '韓曉',\n",
       " '韓肖胄',\n",
       " '韓協',\n",
       " '韓璜',\n",
       " '韓繹',\n",
       " '韓固',\n",
       " '韓國華',\n",
       " '韓璹',\n",
       " '韓庶',\n",
       " '韓思純',\n",
       " '韓鐸',\n",
       " '韓粹彥',\n",
       " '韓綜',\n",
       " '韓摠',\n",
       " '韓宗直',\n",
       " '韓宗古',\n",
       " '韓宗良',\n",
       " '韓宗師',\n",
       " '韓宗道',\n",
       " '韓宗彥',\n",
       " '韓敦立',\n",
       " '韓彥',\n",
       " '韓彥直',\n",
       " '韓寅冑',\n",
       " '韓元吉',\n",
       " '韓元龍',\n",
       " '郝正',\n",
       " '郝太冲',\n",
       " '何昌言',\n",
       " '何偁',\n",
       " '何愨',\n",
       " '何績',\n",
       " '何知至',\n",
       " '何中立',\n",
       " '何逢原',\n",
       " '何俌',\n",
       " '何佾',\n",
       " '何若谷',\n",
       " '何亮',\n",
       " '何士宗',\n",
       " '何郯',\n",
       " '何琬',\n",
       " '賀希仲',\n",
       " '賀允中',\n",
       " '侯愨',\n",
       " '侯陟',\n",
       " '侯憲',\n",
       " '侯臨',\n",
       " '侯懋',\n",
       " '侯叔獻',\n",
       " '奚嶼',\n",
       " '席震',\n",
       " '席汝明',\n",
       " '夏安期',\n",
       " '夏之文',\n",
       " '夏倚',\n",
       " '夏珙',\n",
       " '夏守贇',\n",
       " '夏竦',\n",
       " '向傳式',\n",
       " '向敏中',\n",
       " '向伯奮',\n",
       " '向汮',\n",
       " '向宗哲',\n",
       " '向宗儒',\n",
       " '向宗旦',\n",
       " '向宗道',\n",
       " '向子伋',\n",
       " '向子固',\n",
       " '向子忞',\n",
       " '向子諲',\n",
       " '蕭振',\n",
       " '蕭橚',\n",
       " '蕭固',\n",
       " '蕭貫',\n",
       " '蕭律',\n",
       " '蕭倫',\n",
       " '蕭世京',\n",
       " '蕭定基',\n",
       " '蕭延吉',\n",
       " '謝卿材',\n",
       " '謝伋',\n",
       " '謝絳',\n",
       " '謝景溫',\n",
       " '謝仲規',\n",
       " '謝獻子',\n",
       " '謝如意',\n",
       " '謝泌',\n",
       " '謝德權',\n",
       " '謝彥中',\n",
       " '鮮于侁',\n",
       " '鮮于師中',\n",
       " '辛仲甫',\n",
       " '辛次膺',\n",
       " '熊倩',\n",
       " '熊本',\n",
       " '熊彥詩',\n",
       " '徐常',\n",
       " '徐琛',\n",
       " '徐起',\n",
       " '徐處仁',\n",
       " '徐確',\n",
       " '徐玘',\n",
       " '徐九思',\n",
       " '徐鑄',\n",
       " '徐君平',\n",
       " '徐倣',\n",
       " '徐輔',\n",
       " '徐禧',\n",
       " '徐休復',\n",
       " '徐閎中',\n",
       " '徐億',\n",
       " '徐仁傑',\n",
       " '徐康',\n",
       " '徐康國',\n",
       " '徐庚',\n",
       " '徐公裕',\n",
       " '徐國成',\n",
       " '徐林',\n",
       " '徐奭',\n",
       " '徐師旦',\n",
       " '徐惕',\n",
       " '徐天民',\n",
       " '徐大方',\n",
       " '徐道',\n",
       " '徐的',\n",
       " '徐澤',\n",
       " '徐宗說',\n",
       " '徐子寅',\n",
       " '徐彥孚',\n",
       " '徐禋',\n",
       " '徐宇',\n",
       " '徐與可',\n",
       " '許安世',\n",
       " '許奇',\n",
       " '許幾',\n",
       " '許將',\n",
       " '許九言',\n",
       " '許仲宣',\n",
       " '許驤',\n",
       " '許忻',\n",
       " '許懋',\n",
       " '許申',\n",
       " '許逖',\n",
       " '許天衷',\n",
       " '許大年',\n",
       " '許道寧',\n",
       " '許宗壽',\n",
       " '許暘',\n",
       " '許彥',\n",
       " '許彥先',\n",
       " '許尹',\n",
       " '許元',\n",
       " '續觱',\n",
       " '薛居正',\n",
       " '薛向',\n",
       " '薛貽廓',\n",
       " '薛仁輔',\n",
       " '薛奎',\n",
       " '薛良顯',\n",
       " '薛良朋',\n",
       " '薛弼',\n",
       " '薛紳',\n",
       " '薛田',\n",
       " '薛顏',\n",
       " '薛映',\n",
       " '胡朝宗',\n",
       " '胡杞',\n",
       " '胡欽之',\n",
       " '胡志忠',\n",
       " '胡直孺',\n",
       " '胡紡',\n",
       " '胡浩',\n",
       " '胡奕脩',\n",
       " '胡考寧',\n",
       " '胡令儀',\n",
       " '胡蒙',\n",
       " '胡璞',\n",
       " '胡升',\n",
       " '胡師文',\n",
       " '胡思',\n",
       " '胡松年',\n",
       " '胡棣',\n",
       " '胡旦',\n",
       " '胡則',\n",
       " '胡宗回',\n",
       " '胡宗師',\n",
       " '胡宗炎',\n",
       " '胡宗愈',\n",
       " '胡彥國',\n",
       " '胡說可',\n",
       " '黃昌衡',\n",
       " '黃潛厚',\n",
       " '黃慶基',\n",
       " '黃昭益',\n",
       " '黃震',\n",
       " '黃績',\n",
       " '黃積厚',\n",
       " '黃中',\n",
       " '黃好謙',\n",
       " '黃莘',\n",
       " '黃然',\n",
       " '黃仁榮',\n",
       " '黃格',\n",
       " '黃觀',\n",
       " '黃國鎮',\n",
       " '黃廉',\n",
       " '黃敏行',\n",
       " '黃裳',\n",
       " '崔曙',\n",
       " '黃叔敖',\n",
       " '黃田鎮',\n",
       " '黃大名',\n",
       " '黃祖舜',\n",
       " '黃總',\n",
       " '黃宗旦',\n",
       " '黃敦書',\n",
       " '黃子游',\n",
       " '黃堯允',\n",
       " '黃顏',\n",
       " '黃遠',\n",
       " '皇甫選',\n",
       " '皇甫泌',\n",
       " '洪中孚',\n",
       " '洪适',\n",
       " '霍知白',\n",
       " '霍翔',\n",
       " '霍蠡',\n",
       " '任顓',\n",
       " '任中正',\n",
       " '任中行',\n",
       " '任中師',\n",
       " '任熙明',\n",
       " '任皋',\n",
       " '任公裕',\n",
       " '任諒',\n",
       " '任布',\n",
       " '任肅',\n",
       " '任惟則',\n",
       " '任文薦',\n",
       " '任彥輝',\n",
       " '茹東濟',\n",
       " '榮薿',\n",
       " '榮諲',\n",
       " '康戩',\n",
       " '康執權',\n",
       " '康孝基',\n",
       " '康評',\n",
       " '康衛',\n",
       " '康謂',\n",
       " '康與之',\n",
       " '寇瑊',\n",
       " '寇準',\n",
       " '寇平',\n",
       " '孔憲',\n",
       " '孔平仲',\n",
       " ...]"
      ]
     },
     "execution_count": 55,
     "metadata": {},
     "output_type": "execute_result"
    }
   ],
   "source": [
    "connection = sqlite3.connect(\"latest.db\")\n",
    "\n",
    "# Create cursor\n",
    "cursor = connection.cursor()\n",
    "sql = \"SELECT * FROM CBDB_NAME_LIST\"\n",
    "cursor.execute(sql)\n",
    "result = cursor.fetchall()\n",
    "name = []\n",
    "for row in result:\n",
    "    name.append(row[1])\n",
    "players + name"
   ]
  },
  {
   "cell_type": "code",
   "execution_count": 5,
   "id": "5f6c21e6-040a-44ac-b15a-e55a88bb10e5",
   "metadata": {},
   "outputs": [],
   "source": [
    "import random\n",
    "import sqlite3\n",
    "\n",
    "# 连接到数据库\n",
    "conn = sqlite3.connect('clubs_and_members.db')\n",
    "\n",
    "# 创建游标\n",
    "cursor = conn.cursor()\n",
    "\n",
    "# 生成1000个随机username\n",
    "usernames = []\n",
    "for i in range(1000):\n",
    "    username = 'user' + str(random.randint(1, 1000))\n",
    "    usernames.append(username)\n",
    "\n",
    "# 插入数据\n",
    "for username in usernames:\n",
    "    # 检查数据库中是否存在相同的username\n",
    "    cursor.execute('SELECT COUNT(*) FROM Login WHERE Username = ?', (username,))\n",
    "    count = cursor.fetchone()[0]\n",
    "\n",
    "    # 如果存在相同的username，则重新生成一个随机username\n",
    "    if count > 0:\n",
    "        while True:\n",
    "            username = 'user' + str(random.randint(1, 1000))\n",
    "            if username not in usernames:\n",
    "                break\n",
    "\n",
    "    # 插入数据\n",
    "    cursor.execute('INSERT INTO Login (Username, Password) VALUES (?, ?)', (username, 'pass' + username))\n",
    "\n",
    "# 提交事务\n",
    "conn.commit()\n",
    "\n",
    "# 关闭连接\n",
    "conn.close()\n"
   ]
  },
  {
   "cell_type": "code",
   "execution_count": null,
   "id": "67be09a7-e261-4b3c-98f8-676f952aca1b",
   "metadata": {},
   "outputs": [],
   "source": []
  }
 ],
 "metadata": {
  "kernelspec": {
   "display_name": "Python 3 (ipykernel)",
   "language": "python",
   "name": "python3"
  },
  "language_info": {
   "codemirror_mode": {
    "name": "ipython",
    "version": 3
   },
   "file_extension": ".py",
   "mimetype": "text/x-python",
   "name": "python",
   "nbconvert_exporter": "python",
   "pygments_lexer": "ipython3",
   "version": "3.11.5"
  }
 },
 "nbformat": 4,
 "nbformat_minor": 5
}
